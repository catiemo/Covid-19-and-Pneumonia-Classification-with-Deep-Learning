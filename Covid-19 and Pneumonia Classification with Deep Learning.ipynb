{
 "cells": [
  {
   "cell_type": "markdown",
   "id": "70d53290",
   "metadata": {},
   "source": [
    "### Importing Libraries"
   ]
  },
  {
   "cell_type": "code",
   "execution_count": 1,
   "id": "1d2e2837",
   "metadata": {},
   "outputs": [],
   "source": [
    "import tensorflow as tf\n",
    "from tensorflow import keras\n",
    "from tensorflow.keras.models import Sequential\n",
    "from tensorflow.keras.preprocessing.image import ImageDataGenerator\n",
    "\n",
    "from sklearn.metrics import classification_report\n",
    "from sklearn.metrics import confusion_matrix\n",
    "\n",
    "from tensorflow.keras.callbacks import EarlyStopping\n",
    "from tensorflow.keras import layers\n",
    "\n",
    "import matplotlib.pyplot as plt\n",
    "import numpy"
   ]
  },
  {
   "cell_type": "markdown",
   "id": "01997ab8",
   "metadata": {},
   "source": [
    "### Initialize a training image generator"
   ]
  },
  {
   "cell_type": "code",
   "execution_count": 2,
   "id": "6019e027",
   "metadata": {},
   "outputs": [],
   "source": [
    "training_image_generator = ImageDataGenerator(\n",
    "                                                rescale = 1./255, \n",
    "                                                zoom_range = 0.1, \n",
    "                                                rotation_range = 15, \n",
    "                                                width_shift_range = 0.05,\n",
    "                                                height_shift_range = 0.05, \n",
    "                                                vertical_flip = True\n",
    "                                            )"
   ]
  },
  {
   "cell_type": "markdown",
   "id": "607aab53",
   "metadata": {},
   "source": [
    "### Loading image data from directory"
   ]
  },
  {
   "cell_type": "code",
   "execution_count": 3,
   "id": "4cdb6dc6",
   "metadata": {},
   "outputs": [
    {
     "name": "stdout",
     "output_type": "stream",
     "text": [
      "Found 251 images belonging to 3 classes.\n"
     ]
    }
   ],
   "source": [
    "training_iterator = training_image_generator.flow_from_directory(\n",
    "                                                                'Covid19-dataset/train', \n",
    "                                                                class_mode = 'categorical', \n",
    "                                                                color_mode = 'grayscale', \n",
    "                                                                batch_size = 12,\n",
    "                                                                target_size = (128, 128)\n",
    "                                                        )"
   ]
  },
  {
   "cell_type": "code",
   "execution_count": 4,
   "id": "c8501042",
   "metadata": {},
   "outputs": [
    {
     "data": {
      "text/plain": [
       "251"
      ]
     },
     "execution_count": 4,
     "metadata": {},
     "output_type": "execute_result"
    }
   ],
   "source": [
    "training_iterator.samples"
   ]
  },
  {
   "cell_type": "code",
   "execution_count": 5,
   "id": "8918049a",
   "metadata": {},
   "outputs": [],
   "source": [
    "sample_batch_input, sample_labels = training_iterator.next()"
   ]
  },
  {
   "cell_type": "code",
   "execution_count": 6,
   "id": "8cfafc22",
   "metadata": {},
   "outputs": [
    {
     "data": {
      "text/plain": [
       "(12, 128, 128, 1)"
      ]
     },
     "execution_count": 6,
     "metadata": {},
     "output_type": "execute_result"
    }
   ],
   "source": [
    "sample_batch_input.shape"
   ]
  },
  {
   "cell_type": "code",
   "execution_count": 7,
   "id": "459e6ba6",
   "metadata": {},
   "outputs": [
    {
     "data": {
      "text/plain": [
       "(12, 3)"
      ]
     },
     "execution_count": 7,
     "metadata": {},
     "output_type": "execute_result"
    }
   ],
   "source": [
    "sample_labels.shape"
   ]
  },
  {
   "cell_type": "markdown",
   "id": "336cebe9",
   "metadata": {},
   "source": [
    "### Building the model"
   ]
  },
  {
   "cell_type": "code",
   "execution_count": 8,
   "id": "755f3eb1",
   "metadata": {},
   "outputs": [],
   "source": [
    "model = tf.keras.Sequential()"
   ]
  },
  {
   "cell_type": "code",
   "execution_count": 9,
   "id": "a4a3e6a7",
   "metadata": {},
   "outputs": [
    {
     "name": "stdout",
     "output_type": "stream",
     "text": [
      "Model: \"sequential\"\n",
      "_________________________________________________________________\n",
      " Layer (type)                Output Shape              Param #   \n",
      "=================================================================\n",
      " conv2d (Conv2D)             (None, 43, 43, 8)         80        \n",
      "                                                                 \n",
      " max_pooling2d (MaxPooling2D  (None, 21, 21, 8)        0         \n",
      " )                                                               \n",
      "                                                                 \n",
      " dropout (Dropout)           (None, 21, 21, 8)         0         \n",
      "                                                                 \n",
      " conv2d_1 (Conv2D)           (None, 21, 21, 5)         365       \n",
      "                                                                 \n",
      " max_pooling2d_1 (MaxPooling  (None, 10, 10, 5)        0         \n",
      " 2D)                                                             \n",
      "                                                                 \n",
      " dropout_1 (Dropout)         (None, 10, 10, 5)         0         \n",
      "                                                                 \n",
      " conv2d_2 (Conv2D)           (None, 10, 10, 3)         138       \n",
      "                                                                 \n",
      " conv2d_3 (Conv2D)           (None, 10, 10, 2)         26        \n",
      "                                                                 \n",
      " dropout_2 (Dropout)         (None, 10, 10, 2)         0         \n",
      "                                                                 \n",
      " flatten (Flatten)           (None, 200)               0         \n",
      "                                                                 \n",
      " dense (Dense)               (None, 3)                 603       \n",
      "                                                                 \n",
      "=================================================================\n",
      "Total params: 1,212\n",
      "Trainable params: 1,212\n",
      "Non-trainable params: 0\n",
      "_________________________________________________________________\n"
     ]
    }
   ],
   "source": [
    "model.add(tf.keras.Input(shape = (128, 128, 1)))\n",
    "model.add(layers.Conv2D(8, 3, strides=3, padding = 'same', activation=\"relu\")) \n",
    "model.add(layers.MaxPooling2D(pool_size=(2, 2), strides=(2,2)))\n",
    "model.add(layers.Dropout(0.2))\n",
    "\n",
    "model.add(layers.Conv2D(5, 3, strides=1, padding = 'same', activation=\"relu\")) \n",
    "model.add(layers.MaxPooling2D(pool_size=(2, 2), strides=(2,2)))\n",
    "model.add(layers.Dropout(0.2))\n",
    "\n",
    "model.add(tf.keras.layers.Conv2D(3, 3, strides=1, padding = 'same', activation=\"relu\"))\n",
    "model.add(tf.keras.layers.Conv2D(2, 2, strides=1, padding = 'same', activation=\"relu\"))\n",
    "model.add(tf.keras.layers.Dropout(0.1))\n",
    "\n",
    "model.add(tf.keras.layers.Flatten())\n",
    "model.add(layers.Dense(3,activation=\"softmax\"))\n",
    "model.compile(optimizer=tf.keras.optimizers.Adam(learning_rate=.001), loss=tf.keras.losses.CategoricalCrossentropy(), metrics=[tf.keras.metrics.CategoricalAccuracy(), tf.keras.metrics.AUC()])\n",
    "model.summary()"
   ]
  },
  {
   "cell_type": "markdown",
   "id": "e8e13191",
   "metadata": {},
   "source": [
    "### Initialize validation image generator"
   ]
  },
  {
   "cell_type": "code",
   "execution_count": 10,
   "id": "bc5eddca",
   "metadata": {},
   "outputs": [],
   "source": [
    "validation_image_generator = ImageDataGenerator(rescale = 1./255)"
   ]
  },
  {
   "cell_type": "code",
   "execution_count": 11,
   "id": "3a210be5",
   "metadata": {},
   "outputs": [
    {
     "name": "stdout",
     "output_type": "stream",
     "text": [
      "Found 66 images belonging to 3 classes.\n"
     ]
    }
   ],
   "source": [
    "validation_iterator = validation_image_generator.flow_from_directory(\n",
    "                                                                'Covid19-dataset/test', \n",
    "                                                                class_mode = 'categorical', \n",
    "                                                                color_mode = 'grayscale', \n",
    "                                                                batch_size = 12,\n",
    "                                                                target_size = (128, 128)\n",
    "                                                        )"
   ]
  },
  {
   "cell_type": "code",
   "execution_count": 12,
   "id": "3d5adcd9",
   "metadata": {},
   "outputs": [
    {
     "data": {
      "text/plain": [
       "66"
      ]
     },
     "execution_count": 12,
     "metadata": {},
     "output_type": "execute_result"
    }
   ],
   "source": [
    "validation_iterator.samples"
   ]
  },
  {
   "cell_type": "markdown",
   "id": "44053686",
   "metadata": {},
   "source": [
    "### Training the model"
   ]
  },
  {
   "cell_type": "code",
   "execution_count": 13,
   "id": "623b24d2",
   "metadata": {},
   "outputs": [],
   "source": [
    "es = EarlyStopping(monitor = 'val_loss', mode = 'min', verbose = 1, patience = 20)"
   ]
  },
  {
   "cell_type": "code",
   "execution_count": 14,
   "id": "89e1062b",
   "metadata": {},
   "outputs": [
    {
     "name": "stdout",
     "output_type": "stream",
     "text": [
      "Epoch 1/100\n",
      "20/20 [==============================] - 11s 351ms/step - loss: 1.0871 - categorical_accuracy: 0.4422 - auc: 0.5738 - val_loss: 1.0834 - val_categorical_accuracy: 0.3939 - val_auc: 0.6077\n",
      "Epoch 2/100\n",
      "20/20 [==============================] - 6s 277ms/step - loss: 1.0747 - categorical_accuracy: 0.4422 - auc: 0.5786 - val_loss: 1.0735 - val_categorical_accuracy: 0.3939 - val_auc: 0.6869\n",
      "Epoch 3/100\n",
      "20/20 [==============================] - 7s 308ms/step - loss: 1.0566 - categorical_accuracy: 0.4422 - auc: 0.6479 - val_loss: 1.0547 - val_categorical_accuracy: 0.3939 - val_auc: 0.7051\n",
      "Epoch 4/100\n",
      "20/20 [==============================] - 6s 294ms/step - loss: 1.0227 - categorical_accuracy: 0.4422 - auc: 0.7061 - val_loss: 1.0224 - val_categorical_accuracy: 0.3939 - val_auc: 0.7145\n",
      "Epoch 5/100\n",
      "20/20 [==============================] - 6s 264ms/step - loss: 0.9872 - categorical_accuracy: 0.4502 - auc: 0.7264 - val_loss: 0.9180 - val_categorical_accuracy: 0.4848 - val_auc: 0.7739\n",
      "Epoch 6/100\n",
      "20/20 [==============================] - 6s 271ms/step - loss: 0.8908 - categorical_accuracy: 0.6255 - auc: 0.8233 - val_loss: 0.7777 - val_categorical_accuracy: 0.7121 - val_auc: 0.9392\n",
      "Epoch 7/100\n",
      "20/20 [==============================] - 5s 255ms/step - loss: 0.8046 - categorical_accuracy: 0.6614 - auc: 0.8388 - val_loss: 0.6354 - val_categorical_accuracy: 0.7121 - val_auc: 0.9249\n",
      "Epoch 8/100\n",
      "20/20 [==============================] - 6s 265ms/step - loss: 0.6388 - categorical_accuracy: 0.7888 - auc: 0.9241 - val_loss: 0.5135 - val_categorical_accuracy: 0.7879 - val_auc: 0.9485\n",
      "Epoch 9/100\n",
      "20/20 [==============================] - 5s 260ms/step - loss: 0.6295 - categorical_accuracy: 0.7450 - auc: 0.8969 - val_loss: 0.5388 - val_categorical_accuracy: 0.6212 - val_auc: 0.9089\n",
      "Epoch 10/100\n",
      "20/20 [==============================] - 6s 281ms/step - loss: 0.5923 - categorical_accuracy: 0.7450 - auc: 0.9098 - val_loss: 0.4560 - val_categorical_accuracy: 0.7576 - val_auc: 0.9397\n",
      "Epoch 11/100\n",
      "20/20 [==============================] - 5s 260ms/step - loss: 0.4888 - categorical_accuracy: 0.8048 - auc: 0.9428 - val_loss: 0.3853 - val_categorical_accuracy: 0.8485 - val_auc: 0.9746\n",
      "Epoch 12/100\n",
      "20/20 [==============================] - 6s 283ms/step - loss: 0.5721 - categorical_accuracy: 0.7490 - auc: 0.9115 - val_loss: 0.4840 - val_categorical_accuracy: 0.6970 - val_auc: 0.9250\n",
      "Epoch 13/100\n",
      "20/20 [==============================] - 6s 269ms/step - loss: 0.5266 - categorical_accuracy: 0.8088 - auc: 0.9266 - val_loss: 0.3748 - val_categorical_accuracy: 0.8636 - val_auc: 0.9757\n",
      "Epoch 14/100\n",
      "20/20 [==============================] - 5s 255ms/step - loss: 0.4248 - categorical_accuracy: 0.8327 - auc: 0.9557 - val_loss: 0.3445 - val_categorical_accuracy: 0.8636 - val_auc: 0.9806\n",
      "Epoch 15/100\n",
      "20/20 [==============================] - 6s 275ms/step - loss: 0.3887 - categorical_accuracy: 0.8566 - auc: 0.9643 - val_loss: 0.3259 - val_categorical_accuracy: 0.8939 - val_auc: 0.9793\n",
      "Epoch 16/100\n",
      "20/20 [==============================] - 5s 256ms/step - loss: 0.3661 - categorical_accuracy: 0.8526 - auc: 0.9684 - val_loss: 0.3111 - val_categorical_accuracy: 0.8485 - val_auc: 0.9790\n",
      "Epoch 17/100\n",
      "20/20 [==============================] - 6s 274ms/step - loss: 0.3752 - categorical_accuracy: 0.8566 - auc: 0.9627 - val_loss: 0.3219 - val_categorical_accuracy: 0.9091 - val_auc: 0.9725\n",
      "Epoch 18/100\n",
      "20/20 [==============================] - 6s 292ms/step - loss: 0.4034 - categorical_accuracy: 0.8287 - auc: 0.9555 - val_loss: 0.3369 - val_categorical_accuracy: 0.9091 - val_auc: 0.9671\n",
      "Epoch 19/100\n",
      "20/20 [==============================] - 7s 353ms/step - loss: 0.3491 - categorical_accuracy: 0.8566 - auc: 0.9674 - val_loss: 0.2971 - val_categorical_accuracy: 0.9091 - val_auc: 0.9805\n",
      "Epoch 20/100\n",
      "20/20 [==============================] - 7s 342ms/step - loss: 0.3886 - categorical_accuracy: 0.8446 - auc: 0.9592 - val_loss: 0.3006 - val_categorical_accuracy: 0.8939 - val_auc: 0.9792\n",
      "Epoch 21/100\n",
      "20/20 [==============================] - 6s 285ms/step - loss: 0.4167 - categorical_accuracy: 0.8167 - auc: 0.9519 - val_loss: 0.3187 - val_categorical_accuracy: 0.8788 - val_auc: 0.9723\n",
      "Epoch 22/100\n",
      "20/20 [==============================] - 7s 332ms/step - loss: 0.4424 - categorical_accuracy: 0.8048 - auc: 0.9450 - val_loss: 0.2972 - val_categorical_accuracy: 0.9091 - val_auc: 0.9830\n",
      "Epoch 23/100\n",
      "20/20 [==============================] - 6s 282ms/step - loss: 0.3614 - categorical_accuracy: 0.8446 - auc: 0.9655 - val_loss: 0.2851 - val_categorical_accuracy: 0.9091 - val_auc: 0.9817\n",
      "Epoch 24/100\n",
      "20/20 [==============================] - 6s 275ms/step - loss: 0.3916 - categorical_accuracy: 0.8685 - auc: 0.9581 - val_loss: 0.2781 - val_categorical_accuracy: 0.9091 - val_auc: 0.9825\n",
      "Epoch 25/100\n",
      "20/20 [==============================] - 6s 291ms/step - loss: 0.3775 - categorical_accuracy: 0.8207 - auc: 0.9608 - val_loss: 0.3029 - val_categorical_accuracy: 0.9091 - val_auc: 0.9798\n",
      "Epoch 26/100\n",
      "20/20 [==============================] - 6s 282ms/step - loss: 0.3546 - categorical_accuracy: 0.8725 - auc: 0.9653 - val_loss: 0.3035 - val_categorical_accuracy: 0.9242 - val_auc: 0.9758\n",
      "Epoch 27/100\n",
      "20/20 [==============================] - 6s 301ms/step - loss: 0.3986 - categorical_accuracy: 0.8486 - auc: 0.9559 - val_loss: 0.2832 - val_categorical_accuracy: 0.8939 - val_auc: 0.9825\n",
      "Epoch 28/100\n",
      "20/20 [==============================] - 6s 292ms/step - loss: 0.3558 - categorical_accuracy: 0.8884 - auc: 0.9647 - val_loss: 0.2911 - val_categorical_accuracy: 0.9091 - val_auc: 0.9796\n",
      "Epoch 29/100\n",
      "20/20 [==============================] - 6s 289ms/step - loss: 0.3711 - categorical_accuracy: 0.8765 - auc: 0.9627 - val_loss: 0.3116 - val_categorical_accuracy: 0.9091 - val_auc: 0.9743\n",
      "Epoch 30/100\n",
      "20/20 [==============================] - 8s 388ms/step - loss: 0.3553 - categorical_accuracy: 0.8765 - auc: 0.9654 - val_loss: 0.2749 - val_categorical_accuracy: 0.9242 - val_auc: 0.9827\n",
      "Epoch 31/100\n",
      "20/20 [==============================] - 6s 285ms/step - loss: 0.3559 - categorical_accuracy: 0.8486 - auc: 0.9637 - val_loss: 0.2709 - val_categorical_accuracy: 0.9394 - val_auc: 0.9836\n",
      "Epoch 32/100\n",
      "20/20 [==============================] - 6s 287ms/step - loss: 0.3702 - categorical_accuracy: 0.8406 - auc: 0.9616 - val_loss: 0.2553 - val_categorical_accuracy: 0.9394 - val_auc: 0.9854\n",
      "Epoch 33/100\n",
      "20/20 [==============================] - 6s 282ms/step - loss: 0.3590 - categorical_accuracy: 0.8486 - auc: 0.9643 - val_loss: 0.2675 - val_categorical_accuracy: 0.9091 - val_auc: 0.9820\n",
      "Epoch 34/100\n",
      "20/20 [==============================] - 6s 278ms/step - loss: 0.3627 - categorical_accuracy: 0.8566 - auc: 0.9642 - val_loss: 0.3284 - val_categorical_accuracy: 0.9091 - val_auc: 0.9691\n",
      "Epoch 35/100\n",
      "20/20 [==============================] - 6s 298ms/step - loss: 0.3637 - categorical_accuracy: 0.8526 - auc: 0.9623 - val_loss: 0.3143 - val_categorical_accuracy: 0.9091 - val_auc: 0.9744\n",
      "Epoch 36/100\n",
      "20/20 [==============================] - 6s 267ms/step - loss: 0.3443 - categorical_accuracy: 0.8406 - auc: 0.9669 - val_loss: 0.4479 - val_categorical_accuracy: 0.7576 - val_auc: 0.9380\n",
      "Epoch 37/100\n",
      "20/20 [==============================] - 6s 301ms/step - loss: 0.4057 - categorical_accuracy: 0.8127 - auc: 0.9543 - val_loss: 0.2656 - val_categorical_accuracy: 0.8939 - val_auc: 0.9828\n",
      "Epoch 38/100\n",
      "20/20 [==============================] - 6s 286ms/step - loss: 0.3540 - categorical_accuracy: 0.8526 - auc: 0.9638 - val_loss: 0.2652 - val_categorical_accuracy: 0.9091 - val_auc: 0.9839\n",
      "Epoch 39/100\n",
      "20/20 [==============================] - 6s 274ms/step - loss: 0.3610 - categorical_accuracy: 0.8486 - auc: 0.9639 - val_loss: 0.2680 - val_categorical_accuracy: 0.9242 - val_auc: 0.9836\n",
      "Epoch 40/100\n",
      "20/20 [==============================] - 7s 321ms/step - loss: 0.3496 - categorical_accuracy: 0.8486 - auc: 0.9671 - val_loss: 0.3343 - val_categorical_accuracy: 0.9091 - val_auc: 0.9701\n",
      "Epoch 41/100\n",
      "20/20 [==============================] - 7s 324ms/step - loss: 0.3307 - categorical_accuracy: 0.8685 - auc: 0.9710 - val_loss: 0.2735 - val_categorical_accuracy: 0.9394 - val_auc: 0.9795\n",
      "Epoch 42/100\n"
     ]
    },
    {
     "name": "stdout",
     "output_type": "stream",
     "text": [
      "20/20 [==============================] - 6s 286ms/step - loss: 0.3308 - categorical_accuracy: 0.8566 - auc: 0.9690 - val_loss: 0.2876 - val_categorical_accuracy: 0.9242 - val_auc: 0.9768\n",
      "Epoch 43/100\n",
      "20/20 [==============================] - 6s 273ms/step - loss: 0.3310 - categorical_accuracy: 0.8884 - auc: 0.9705 - val_loss: 0.2810 - val_categorical_accuracy: 0.9242 - val_auc: 0.9784\n",
      "Epoch 44/100\n",
      "20/20 [==============================] - 5s 255ms/step - loss: 0.2733 - categorical_accuracy: 0.8964 - auc: 0.9798 - val_loss: 0.2538 - val_categorical_accuracy: 0.9242 - val_auc: 0.9823\n",
      "Epoch 45/100\n",
      "20/20 [==============================] - 6s 272ms/step - loss: 0.2802 - categorical_accuracy: 0.8924 - auc: 0.9777 - val_loss: 0.2346 - val_categorical_accuracy: 0.9091 - val_auc: 0.9857\n",
      "Epoch 46/100\n",
      "20/20 [==============================] - 5s 257ms/step - loss: 0.3897 - categorical_accuracy: 0.8367 - auc: 0.9583 - val_loss: 0.3940 - val_categorical_accuracy: 0.8182 - val_auc: 0.9527\n",
      "Epoch 47/100\n",
      "20/20 [==============================] - 6s 264ms/step - loss: 0.3597 - categorical_accuracy: 0.8645 - auc: 0.9636 - val_loss: 0.3880 - val_categorical_accuracy: 0.8333 - val_auc: 0.9558\n",
      "Epoch 48/100\n",
      "20/20 [==============================] - 6s 296ms/step - loss: 0.3557 - categorical_accuracy: 0.8566 - auc: 0.9654 - val_loss: 0.2465 - val_categorical_accuracy: 0.9394 - val_auc: 0.9852\n",
      "Epoch 49/100\n",
      "20/20 [==============================] - 6s 274ms/step - loss: 0.3213 - categorical_accuracy: 0.8685 - auc: 0.9715 - val_loss: 0.2440 - val_categorical_accuracy: 0.9091 - val_auc: 0.9865\n",
      "Epoch 50/100\n",
      "20/20 [==============================] - 7s 336ms/step - loss: 0.2821 - categorical_accuracy: 0.8884 - auc: 0.9793 - val_loss: 0.2588 - val_categorical_accuracy: 0.9242 - val_auc: 0.9810\n",
      "Epoch 51/100\n",
      "20/20 [==============================] - 9s 411ms/step - loss: 0.3287 - categorical_accuracy: 0.8606 - auc: 0.9710 - val_loss: 0.2556 - val_categorical_accuracy: 0.9394 - val_auc: 0.9818\n",
      "Epoch 52/100\n",
      "20/20 [==============================] - 10s 465ms/step - loss: 0.3420 - categorical_accuracy: 0.8526 - auc: 0.9675 - val_loss: 0.2543 - val_categorical_accuracy: 0.9545 - val_auc: 0.9845\n",
      "Epoch 53/100\n",
      "20/20 [==============================] - 8s 392ms/step - loss: 0.3225 - categorical_accuracy: 0.8725 - auc: 0.9709 - val_loss: 0.2376 - val_categorical_accuracy: 0.9091 - val_auc: 0.9867\n",
      "Epoch 54/100\n",
      "20/20 [==============================] - 6s 299ms/step - loss: 0.3727 - categorical_accuracy: 0.8606 - auc: 0.9621 - val_loss: 0.2384 - val_categorical_accuracy: 0.9545 - val_auc: 0.9859\n",
      "Epoch 55/100\n",
      "20/20 [==============================] - 7s 339ms/step - loss: 0.3468 - categorical_accuracy: 0.8327 - auc: 0.9665 - val_loss: 0.2321 - val_categorical_accuracy: 0.9545 - val_auc: 0.9869\n",
      "Epoch 56/100\n",
      "20/20 [==============================] - 6s 290ms/step - loss: 0.3283 - categorical_accuracy: 0.8884 - auc: 0.9697 - val_loss: 0.2818 - val_categorical_accuracy: 0.9394 - val_auc: 0.9795\n",
      "Epoch 57/100\n",
      "20/20 [==============================] - 6s 273ms/step - loss: 0.3517 - categorical_accuracy: 0.8526 - auc: 0.9654 - val_loss: 0.2565 - val_categorical_accuracy: 0.9545 - val_auc: 0.9831\n",
      "Epoch 58/100\n",
      "20/20 [==============================] - 6s 308ms/step - loss: 0.3174 - categorical_accuracy: 0.8765 - auc: 0.9719 - val_loss: 0.2337 - val_categorical_accuracy: 0.9091 - val_auc: 0.9866\n",
      "Epoch 59/100\n",
      "20/20 [==============================] - 7s 357ms/step - loss: 0.3321 - categorical_accuracy: 0.8566 - auc: 0.9690 - val_loss: 0.2882 - val_categorical_accuracy: 0.9242 - val_auc: 0.9777\n",
      "Epoch 60/100\n",
      "20/20 [==============================] - 6s 294ms/step - loss: 0.3199 - categorical_accuracy: 0.8765 - auc: 0.9715 - val_loss: 0.2776 - val_categorical_accuracy: 0.9242 - val_auc: 0.9793\n",
      "Epoch 61/100\n",
      "20/20 [==============================] - 6s 291ms/step - loss: 0.3141 - categorical_accuracy: 0.8725 - auc: 0.9735 - val_loss: 0.2543 - val_categorical_accuracy: 0.9545 - val_auc: 0.9822\n",
      "Epoch 62/100\n",
      "20/20 [==============================] - 6s 281ms/step - loss: 0.3396 - categorical_accuracy: 0.8645 - auc: 0.9672 - val_loss: 0.2341 - val_categorical_accuracy: 0.9545 - val_auc: 0.9857\n",
      "Epoch 63/100\n",
      "20/20 [==============================] - 6s 282ms/step - loss: 0.2988 - categorical_accuracy: 0.8964 - auc: 0.9745 - val_loss: 0.3193 - val_categorical_accuracy: 0.8939 - val_auc: 0.9706\n",
      "Epoch 64/100\n",
      "20/20 [==============================] - 6s 283ms/step - loss: 0.2812 - categorical_accuracy: 0.8964 - auc: 0.9788 - val_loss: 0.2526 - val_categorical_accuracy: 0.9545 - val_auc: 0.9817\n",
      "Epoch 65/100\n",
      "20/20 [==============================] - 6s 276ms/step - loss: 0.2723 - categorical_accuracy: 0.8845 - auc: 0.9788 - val_loss: 0.2228 - val_categorical_accuracy: 0.9394 - val_auc: 0.9863\n",
      "Epoch 66/100\n",
      "20/20 [==============================] - 6s 280ms/step - loss: 0.2936 - categorical_accuracy: 0.8685 - auc: 0.9760 - val_loss: 0.2618 - val_categorical_accuracy: 0.9091 - val_auc: 0.9797\n",
      "Epoch 67/100\n",
      "20/20 [==============================] - 6s 293ms/step - loss: 0.3141 - categorical_accuracy: 0.8884 - auc: 0.9724 - val_loss: 0.2293 - val_categorical_accuracy: 0.9545 - val_auc: 0.9856\n",
      "Epoch 68/100\n",
      "20/20 [==============================] - 7s 318ms/step - loss: 0.3343 - categorical_accuracy: 0.8486 - auc: 0.9688 - val_loss: 0.2452 - val_categorical_accuracy: 0.9091 - val_auc: 0.9849\n",
      "Epoch 69/100\n",
      "20/20 [==============================] - 6s 299ms/step - loss: 0.3488 - categorical_accuracy: 0.8645 - auc: 0.9666 - val_loss: 0.2362 - val_categorical_accuracy: 0.9394 - val_auc: 0.9838\n",
      "Epoch 70/100\n",
      "20/20 [==============================] - 6s 288ms/step - loss: 0.2698 - categorical_accuracy: 0.8924 - auc: 0.9801 - val_loss: 0.2319 - val_categorical_accuracy: 0.9545 - val_auc: 0.9852\n",
      "Epoch 71/100\n",
      "20/20 [==============================] - 6s 270ms/step - loss: 0.2878 - categorical_accuracy: 0.8645 - auc: 0.9771 - val_loss: 0.4395 - val_categorical_accuracy: 0.8030 - val_auc: 0.9433\n",
      "Epoch 72/100\n",
      "20/20 [==============================] - 6s 276ms/step - loss: 0.3659 - categorical_accuracy: 0.8566 - auc: 0.9635 - val_loss: 0.2707 - val_categorical_accuracy: 0.9242 - val_auc: 0.9797\n",
      "Epoch 73/100\n",
      "20/20 [==============================] - 6s 301ms/step - loss: 0.2823 - categorical_accuracy: 0.8805 - auc: 0.9784 - val_loss: 0.2473 - val_categorical_accuracy: 0.9545 - val_auc: 0.9819\n",
      "Epoch 74/100\n",
      "20/20 [==============================] - 6s 300ms/step - loss: 0.2755 - categorical_accuracy: 0.8884 - auc: 0.9785 - val_loss: 0.2647 - val_categorical_accuracy: 0.9091 - val_auc: 0.9788\n",
      "Epoch 75/100\n",
      "20/20 [==============================] - 11s 537ms/step - loss: 0.3368 - categorical_accuracy: 0.8566 - auc: 0.9681 - val_loss: 0.2666 - val_categorical_accuracy: 0.9091 - val_auc: 0.9787\n",
      "Epoch 76/100\n",
      "20/20 [==============================] - 12s 599ms/step - loss: 0.3093 - categorical_accuracy: 0.8805 - auc: 0.9734 - val_loss: 0.2359 - val_categorical_accuracy: 0.9545 - val_auc: 0.9861\n",
      "Epoch 77/100\n",
      "20/20 [==============================] - 10s 462ms/step - loss: 0.3482 - categorical_accuracy: 0.8685 - auc: 0.9654 - val_loss: 0.2637 - val_categorical_accuracy: 0.9394 - val_auc: 0.9798\n",
      "Epoch 78/100\n",
      "20/20 [==============================] - 6s 303ms/step - loss: 0.2714 - categorical_accuracy: 0.8725 - auc: 0.9790 - val_loss: 0.2281 - val_categorical_accuracy: 0.9545 - val_auc: 0.9840\n",
      "Epoch 79/100\n",
      "20/20 [==============================] - 8s 376ms/step - loss: 0.2672 - categorical_accuracy: 0.8884 - auc: 0.9795 - val_loss: 0.2324 - val_categorical_accuracy: 0.9545 - val_auc: 0.9843\n",
      "Epoch 80/100\n",
      "20/20 [==============================] - 7s 356ms/step - loss: 0.3104 - categorical_accuracy: 0.8606 - auc: 0.9728 - val_loss: 0.2248 - val_categorical_accuracy: 0.9545 - val_auc: 0.9859\n",
      "Epoch 81/100\n",
      "20/20 [==============================] - 7s 330ms/step - loss: 0.2705 - categorical_accuracy: 0.8765 - auc: 0.9796 - val_loss: 0.2495 - val_categorical_accuracy: 0.9394 - val_auc: 0.9798\n",
      "Epoch 82/100\n",
      "20/20 [==============================] - 7s 348ms/step - loss: 0.3181 - categorical_accuracy: 0.8725 - auc: 0.9709 - val_loss: 0.2384 - val_categorical_accuracy: 0.9545 - val_auc: 0.9841\n",
      "Epoch 83/100\n"
     ]
    },
    {
     "name": "stdout",
     "output_type": "stream",
     "text": [
      "20/20 [==============================] - 7s 323ms/step - loss: 0.2608 - categorical_accuracy: 0.8884 - auc: 0.9808 - val_loss: 0.2319 - val_categorical_accuracy: 0.9091 - val_auc: 0.9842\n",
      "Epoch 84/100\n",
      "20/20 [==============================] - 9s 450ms/step - loss: 0.2774 - categorical_accuracy: 0.9004 - auc: 0.9781 - val_loss: 0.2320 - val_categorical_accuracy: 0.9545 - val_auc: 0.9850\n",
      "Epoch 85/100\n",
      "20/20 [==============================] - 11s 516ms/step - loss: 0.2997 - categorical_accuracy: 0.8645 - auc: 0.9747 - val_loss: 0.2268 - val_categorical_accuracy: 0.9545 - val_auc: 0.9850\n",
      "Epoch 00085: early stopping\n"
     ]
    }
   ],
   "source": [
    "history = model.fit(\n",
    "                    training_iterator,\n",
    "                    steps_per_epoch=training_iterator.samples/12, epochs=100,\n",
    "                    validation_data=validation_iterator,\n",
    "                    validation_steps=validation_iterator.samples/12,\n",
    "                    callbacks=[es]\n",
    "                    )"
   ]
  },
  {
   "cell_type": "markdown",
   "id": "4f55dea9",
   "metadata": {},
   "source": [
    "### Visualize training parameters"
   ]
  },
  {
   "cell_type": "code",
   "execution_count": 15,
   "id": "390f21cc",
   "metadata": {},
   "outputs": [
    {
     "data": {
      "image/png": "[encoded data removed]",
      "text/plain": [
       "<Figure size 432x288 with 1 Axes>"
      ]
     },
     "metadata": {
      "needs_background": "light"
     },
     "output_type": "display_data"
    }
   ],
   "source": [
    "plt.plot(history.history['categorical_accuracy'])\n",
    "plt.plot(history.history['val_categorical_accuracy'])\n",
    "plt.title('model accuracy')\n",
    "plt.xlabel('epoch')\n",
    "plt.ylabel('accuracy')\n",
    "plt.legend(['train', 'validation'], loc='upper left')\n",
    "plt.show()"
   ]
  },
  {
   "cell_type": "code",
   "execution_count": 16,
   "id": "ee8bcf0d",
   "metadata": {},
   "outputs": [
    {
     "data": {
      "image/png": "[encoded data removed]",
      "text/plain": [
       "<Figure size 432x288 with 1 Axes>"
      ]
     },
     "metadata": {
      "needs_background": "light"
     },
     "output_type": "display_data"
    }
   ],
   "source": [
    "plt.plot(history.history['auc'])\n",
    "plt.plot(history.history['val_auc'])\n",
    "plt.title('model auc')\n",
    "plt.xlabel('epoch')\n",
    "plt.ylabel('auc')\n",
    "plt.legend(['train', 'validation'], loc='upper left')\n",
    "plt.show()"
   ]
  },
  {
   "cell_type": "markdown",
   "id": "54b349ea",
   "metadata": {},
   "source": [
    "### Viewing prediction report"
   ]
  },
  {
   "cell_type": "code",
   "execution_count": 22,
   "id": "fbc5e58d",
   "metadata": {},
   "outputs": [
    {
     "name": "stdout",
     "output_type": "stream",
     "text": [
      "              precision    recall  f1-score   support\n",
      "\n",
      "       Covid       0.42      0.42      0.42        26\n",
      "      Normal       0.24      0.25      0.24        20\n",
      "   Pneumonia       0.37      0.35      0.36        20\n",
      "\n",
      "    accuracy                           0.35        66\n",
      "   macro avg       0.34      0.34      0.34        66\n",
      "weighted avg       0.35      0.35      0.35        66\n",
      "\n"
     ]
    }
   ],
   "source": [
    "test_steps_per_epoch = numpy.math.ceil(validation_iterator.samples / validation_iterator.batch_size)\n",
    "predictions = model.predict(validation_iterator, steps=test_steps_per_epoch)\n",
    "predicted_classes = numpy.argmax(predictions, axis=1)\n",
    "true_classes = validation_iterator.classes\n",
    "class_labels = list(validation_iterator.class_indices.keys())\n",
    "report = classification_report(true_classes, predicted_classes, target_names=class_labels)\n",
    "print(report)"
   ]
  },
  {
   "cell_type": "code",
   "execution_count": 23,
   "id": "da8924d7",
   "metadata": {},
   "outputs": [
    {
     "name": "stdout",
     "output_type": "stream",
     "text": [
      "[[11  7  8]\n",
      " [11  5  4]\n",
      " [ 4  9  7]]\n"
     ]
    }
   ],
   "source": [
    "cm=confusion_matrix(true_classes,predicted_classes)\n",
    "print(cm)"
   ]
  },
  {
   "cell_type": "code",
   "execution_count": null,
   "id": "80877fd9",
   "metadata": {},
   "outputs": [],
   "source": []
  }
 ],
 "metadata": {
  "kernelspec": {
   "display_name": "Python 3",
   "language": "python",
   "name": "python3"
  },
  "language_info": {
   "codemirror_mode": {
    "name": "ipython",
    "version": 3
   },
   "file_extension": ".py",
   "mimetype": "text/x-python",
   "name": "python",
   "nbconvert_exporter": "python",
   "pygments_lexer": "ipython3",
   "version": "3.8.8"
  }
 },
 "nbformat": 4,
 "nbformat_minor": 5
}
